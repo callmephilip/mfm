{
  "cells": [
    {
      "cell_type": "markdown",
      "metadata": {},
      "source": [
        "# This is your app\n",
        "\n",
        "Let's get cranking"
      ]
    },
    {
      "cell_type": "code",
      "execution_count": 4,
      "metadata": {},
      "outputs": [
        {
          "data": {
            "text/plain": [
              "{}"
            ]
          },
          "execution_count": 4,
          "metadata": {},
          "output_type": "execute_result"
        }
      ],
      "source": [
        "import { loadSync } from \"jsr:@std/dotenv\";\n",
        "import { GoogleGenerativeAI } from \"@google/generative-ai\";\n",
        "import { GoogleAIFileManager } from \"@google/generative-ai/server\";\n",
        "\n",
        "loadSync({ envPath: \"./.env\" });\n",
        "\n",
        "const apiKey = Deno.env.get(\"GEMINI_KEY\")!;\n",
        "const gemini = new GoogleGenerativeAI(apiKey).getGenerativeModel({ model: \"gemini-2.0-flash\" });\n",
        "const fileManager = new GoogleAIFileManager(apiKey);\n",
        "\n",
        "/**\n",
        " * Uploads the given file to Gemini.\n",
        " *\n",
        " * See https://ai.google.dev/gemini-api/docs/prompting_with_media\n",
        " */\n",
        "async function uploadToGemini(path, mimeType) {\n",
        "  const uploadResult = await fileManager.uploadFile(path, {\n",
        "    mimeType,\n",
        "    displayName: path,\n",
        "  });\n",
        "  const file = uploadResult.file;\n",
        "  console.log(`Uploaded file ${file.displayName} as: ${file.name}`);\n",
        "  return file;\n",
        "}"
      ]
    },
    {
      "cell_type": "code",
      "execution_count": 6,
      "metadata": {},
      "outputs": [
        {
          "name": "stdout",
          "output_type": "stream",
          "text": [
            "Uploaded file ../data/episode1/pod_chunk1.m4a as: files/kzzy4gwnf4dd\n",
            "Okay, here's the transcription of the audio clip from \"My First Million\", with timestamps and speaker diarization:\n",
            "\n",
            "**[00:00:00] Speaker: Sam Parr**\n",
            "Screw Nick Huber talking about RV parks and storage units. We're going to be talking about flea markets. That's what I think is going to happen.\n",
            "\n",
            "**[00:00:11] Speaker: Shaan Puri**\n",
            "I want to talk to you about a topic and I think this is a topic it's my passion this topic. But it's also I'm going to bring it up because I think it's a trend and that's what we're about. And B, I ha it's sort of a prediction. I I I think I have a prediction here and it's going to be like be interesting in the next five and 10 years, okay?\n",
            "\n",
            "**[00:00:42] Speaker: Sam Parr**\n",
            "Sweaters, denim, tobacco.\n",
            "\n",
            "**[00:00:47] Speaker: Shaan Puri**\n",
            "Yeah, you're in the ballpark. Yeah. We're in we're in the zip code. We're definitely in the zip code.\n",
            "\n",
            "**[00:00:53] Speaker: Sam Parr**\n",
            "Media. Newspaper industry.\n",
            "\n",
            "**[00:00:59] Speaker: Shaan Puri**\n",
            "We're we're in this we're in the zip code. So, years ago, uh, this doesn't matter to you because you're not from the South, but if you're above the age of 30, a lot of people here probably remember this TV show American Pickers. Do did you ever even watch that show?\n",
            "\n",
            "**[00:01:19] Speaker: Sam Parr**\n",
            "Never watched it.\n",
            "\n",
            "**[00:01:20] Speaker: Shaan Puri**\n",
            "Okay, two guys who go and buy junk and they tell the story, uh, of the junk and then we would.\n",
            "\n",
            "**[00:01:26] Speaker: Sam Parr**\n",
            "Are you from storage containers or that's a different show?\n",
            "\n",
            "**[00:01:31] Speaker: Shaan Puri**\n",
            "That's a different show, but again, same ballpark, but basically they would drive around the South. They would knock on old people's homes and say, can I come in and look in your barn? And they would find old, cool stuff, tell the history of it, clean it up just a little bit, bring it back to the store where I worked and we would resell it. That's basically it. That was that's all it is. Uh, but we would have lines out the door because at the time this show, we were it was like David Letterman was number one and then like American Pickers was number two in terms of the most watched shows on TV. There'd be days where we would sell, I'm not exaggerating, $100,000 in American Pickers t-shirts because all these guys would come in and want to buy anything that was American Pickers related.\n",
            "\n",
            "**[00:02:27] Speaker: Sam Parr**\n",
            "How much revenue do you think that store did overall?\n",
            "\n",
            "**[00:02:32] Speaker: Shaan Puri**\n",
            "I would imagine, uh, $10 million, one location.\n",
            "\n",
            "**[00:02:38] Speaker: Sam Parr**\n",
            "One location. Big store or just like a normal shop?\n",
            "\n",
            "**[00:02:42] Speaker: Shaan Puri**\n",
            "It was so small that we had a script to let people to to people would come in and be so disappointed at how small it was because they would think it was like this big like because the cameras made it look huge. And like\n",
            "\n",
            "**[00:02:56] Speaker: Sam Parr**\n",
            "That sounds familiar to my life. I I do had a script.\n",
            "\n",
            "**[00:03:15] Speaker: Shaan Puri**\n",
            "Uh, so it it was like a tidy store, but we killed it. But I experienced something that but the thing was is that it was all like hillbillies. It was like redneck hillbillies from like Alabama. For some reason, the picking culture, it's all like hillbillies in like rural Alabama. I like how you said for some reason. Yeah, I don't know, like because they like old shit or they like to reuse stuff. I don't know. It's just\n",
            "\n",
            "**[00:03:40] Speaker: Sam Parr**\n",
            "I think it's kind.\n",
            "\n",
            "**[00:03:41] Speaker: Shaan Puri**\n",
            "part of the culture. But this this weekend I experienced something that has totally changed my world view on this topic. So, there's this thing called Alfargos Marketplace and I went to it the other day. So, the story of is basically is these four guys and they're they look like they're 24 years old and they started organizing this flea market in New York City. and they host it at this place called Newhouse, which is like the hipper version of WeWork. So, it's this like weird combination of like urban New York stuff, but like flea markets, which are historically like old people and Southern like heritage, like it's it's not like a New York cool kid thing.\n",
            "\n"
          ]
        }
      ],
      "source": [
        "const generationConfig = {\n",
        "  temperature: 1,\n",
        "  topP: 0.95,\n",
        "  topK: 40,\n",
        "  maxOutputTokens: 8192 * 15 * 2,\n",
        "  responseMimeType: \"text/plain\",\n",
        "};\n",
        "\n",
        "async function run({ chunkFilePath } : { chunkFilePath: string }) {\n",
        "  const file = await uploadToGemini(chunkFilePath, \"audio/x-m4a\");\n",
        "\n",
        "  const chatSession = gemini.startChat({\n",
        "    generationConfig,\n",
        "    history: [\n",
        "      {\n",
        "        role: \"user\",\n",
        "        parts: [\n",
        "          {\n",
        "            fileData: {\n",
        "              mimeType: file.mimeType,\n",
        "              fileUri: file.uri,\n",
        "            },\n",
        "          },\n",
        "        ],\n",
        "      },\n",
        "    ],\n",
        "  });\n",
        "  const result = await chatSession.sendMessage(\n",
        "    \"transcribe this audio, include timestamps and speaker diarization. this audio clip is from the podcast called 'My First Million'. speakers are Sam Parr and Shaan Puri\"\n",
        "  );\n",
        "  console.log(result.response.text());\n",
        "}\n",
        "\n",
        "await run({ chunkFilePath: \"../data/episode1/pod_chunk1.m4a\" });\n"
      ]
    }
  ],
  "metadata": {
    "kernelspec": {
      "display_name": "Deno",
      "language": "typescript",
      "name": "deno"
    },
    "language_info": {
      "codemirror_mode": "typescript",
      "file_extension": ".ts",
      "mimetype": "text/x.typescript",
      "name": "typescript",
      "nbconvert_exporter": "script",
      "pygments_lexer": "typescript",
      "version": "5.7.3"
    }
  },
  "nbformat": 4,
  "nbformat_minor": 2
}
