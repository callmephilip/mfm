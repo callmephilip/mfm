{
  "cells": [
    {
      "cell_type": "markdown",
      "metadata": {},
      "source": [
        "# This is your app\n",
        "\n",
        "Let's get cranking"
      ]
    },
    {
      "cell_type": "code",
      "execution_count": 7,
      "metadata": {},
      "outputs": [
        {
          "data": {
            "text/plain": [
              "{}"
            ]
          },
          "execution_count": 7,
          "metadata": {},
          "output_type": "execute_result"
        }
      ],
      "source": [
        "import { loadSync } from \"jsr:@std/dotenv\";\n",
        "import { GoogleGenerativeAI, GenerativeModel } from \"@google/generative-ai\";\n",
        "\n",
        "loadSync({ envPath: \"./.env\" });\n",
        "\n",
        "const gemini = new GoogleGenerativeAI(\n",
        "  Deno.env.get(\"GEMINI_KEY\")!\n",
        ").getGenerativeModel({ model: \"gemini-2.0-flash\" });"
      ]
    },
    {
      "cell_type": "code",
      "execution_count": 6,
      "metadata": {},
      "outputs": [
        {
          "name": "stdout",
          "output_type": "stream",
          "text": [
            "Okay, here is the transcription of the video with speaker diarization and timestamps:\n",
            "\n",
            "**0:00:00** Sam Parr: Screw Nick Huber talking about RV parks and storage units.\n",
            "**0:00:04** Sam Parr: We're going to be talking about flea markets.\n",
            "**0:00:07** Sam Parr: That's what I think is going to happen.\n",
            "**0:00:16** Sam Parr: I want to talk to you about a topic, and I think this is a topic, it's my passion, this topic.\n",
            "**0:00:22** Sam Parr: But it's also I'm going to bring it up because I think it's a a trend, and that's what we're about, and B, I it's sort of a prediction.\n",
            "**0:00:29** Sam Parr: I think I have a prediction here and it's going to be like be interesting in the next five and 10 years, okay?\n",
            "**0:00:33** Shaan Puri: Sweaters, denim, tobacco.\n",
            "**0:00:36** Sam Parr: Yeah, you're in the ballpark.\n",
            "**0:00:37** Shaan Puri: Media.\n",
            "**0:00:38** Sam Parr: Yeah, we're in we're in the zip code.\n",
            "**0:00:40** Shaan Puri: Newspaper industry.\n",
            "**0:00:42** Sam Parr: We're we're in the zip we're in the zip code.\n",
            "**0:00:45** Sam Parr: So years ago, uh this doesn't matter to you because you're not from the South, but if you're above the age of 30, a lot of people here probably remember this TV show American Pickers.\n",
            "**0:00:55** Sam Parr: Did did you ever even watch that show?\n",
            "**0:00:57** Shaan Puri: Never watched it.\n",
            "**0:00:58** Sam Parr: Okay, two guys who go and buy junk and they tell the story uh of the junk and then we.\n",
            "**0:01:03** Shaan Puri: They buy them from storage containers, so that's a different show.\n",
            "**0:01:06** Sam Parr: That's a different show, but again, same ballpark, but basically they would drive around the south.\n",
            "**0:01:09** Sam Parr: They would knock on old people's homes and say, can I come and look in your barn and they would find old cool stuff, tell the history of it, clean it up just a little bit, bring it back to the store where I worked and we would resell it.\n",
            "**0:01:20** Sam Parr: That's basically it.\n",
            "**0:01:20** Sam Parr: That was that's all it is.\n",
            "**0:01:21** Sam Parr: Uh but we would have lines out the door because at the time this show, we were it was like David Letterman was number one and then like American Pickers was number two in terms of the most watched shows on TV.\n",
            "**0:01:32** Sam Parr: There would be days where we would sell, I'm not exaggerating, $100,000 in American Pickers t-shirts because all these guys would come in and want to buy anything that was American Pickers related.\n",
            "**0:01:41** Shaan Puri: How much revenue do you think that store did overall?\n",
            "**0:01:44** Sam Parr: I would imagine, uh $10 million, one location.\n",
            "**0:01:48** Shaan Puri: One location.\n",
            "**0:01:49** Shaan Puri: Big store or just like a normal shop?\n",
            "**0:01:51** Sam Parr: It was so small that we had a script to let people to people would come in and be so disappointed at how small it was because they would think it was like this big like because the cameras made it look huge.\n",
            "**0:02:01** Shaan Puri: Sounds familiar to my life.\n",
            "**0:02:03** Sam Parr: I I do had a script.\n",
            "**0:02:11** Sam Parr: Uh so it it was like a tidy store, but we killed it.\n",
            "**0:02:14** Sam Parr: But I experienced something that but the thing was is that it was all like Hillbillies.\n",
            "**0:02:17** Sam Parr: It was like Redneck Hillbillies from like Alabama.\n",
            "**0:02:20** Sam Parr: For some reason, the picking culture, it's all like Hillbillies and like rural Alabama.\n",
            "**0:02:24** Shaan Puri: Like how you said for some reason.\n",
            "**0:02:26** Sam Parr: Yeah, I don't know.\n",
            "**0:02:26** Sam Parr: Like cuz they like old shit or they like the reuse stuff.\n",
            "**0:02:29** Sam Parr: I don't know, it's just part of the culture.\n",
            "**0:02:30** Sam Parr: But this this weekend I experienced something that has totally changed my world view on this topic.\n",
            "**0:02:35** Sam Parr: So there's this thing called Alfargo's marketplace and I went to it the other day.\n",
            "**0:02:39** Sam Parr: So the story is is basically it's these four guys and they're they look like they're 24 years old and they started organizing this flea market in New York City and they host it at this place called New House, which is like the hipper version of WeWork.\n",
            "**0:02:57** Sam Parr: So it's this like weird combination of like urban New York stuff, but like flea markets, which are historically like old people and southern like heritage, like it's it's not like a New York cool kid thing.\n",
            "**0:03:08** Sam Parr: It is now though.\n",
            "**0:03:10** Shaan Puri: All right, can I just describe what I'm seeing?\n",
            "**0:03:12** Sam Parr: Yeah, describe what uh what you see and who you see.\n",
            "**0:03:14** Shaan Puri: Every photo looks like it's taken with a Polaroid even though we have like 4K cameras.\n",
            "**0:03:19** Shaan Puri: I mean, the style is eclectic, there's a DJ.\n",
            "**0:03:22** Shaan Puri: It looks like is this a party in a Goodwill shop?\n",
            "**0:03:24** Sam Parr: Dude, it's a high-end vintage flea market and it was packed.\n",
            "**0:03:29** Sam Parr: And I'm 35, I was the oldest person there.\n",
            "**0:03:32** Sam Parr: There's a lot of weird stuff going on.\n",
            "**0:03:35** Sam Parr: And when you and they're all wearing it's all like 24-year-old single guys wearing suits and ties.\n",
            "**0:03:41** Shaan Puri: Sounds a little familiar to my life.\n",
            "**0:03:49** Sam Parr: Okay, so it it was like a tidy store, but we killed it.\n",
            "**0:02:51** Shaan Puri: I know, the \n"
          ]
        }
      ],
      "source": [
        "const generationConfig = {\n",
        "  temperature: 1,\n",
        "  topP: 0.95,\n",
        "  topK: 40,\n",
        "  maxOutputTokens: 8192 * 15 * 2,\n",
        "  responseMimeType: \"text/plain\",\n",
        "};\n",
        "\n",
        "async function run() {\n",
        "  const chatSession = gemini.startChat({\n",
        "    generationConfig,\n",
        "    history: [\n",
        "      {\n",
        "        role: \"user\",\n",
        "        parts: [\n",
        "          {\n",
        "            fileData: {\n",
        "              mimeType: \"video/*\",\n",
        "              fileUri: \"https://youtu.be/rxMqbIm1PPo\",\n",
        "            },\n",
        "          },\n",
        "        ],\n",
        "      },\n",
        "    ],\n",
        "  });\n",
        "\n",
        "  const result = await chatSession.sendMessage(\n",
        "    \"transcribe this video and include speaker diarization and timestamps\"\n",
        "  );\n",
        "  console.log(result.response.text());\n",
        "}\n",
        "\n",
        "await run();\n"
      ]
    },
    {
      "cell_type": "code",
      "execution_count": null,
      "metadata": {},
      "outputs": [],
      "source": []
    }
  ],
  "metadata": {
    "kernelspec": {
      "display_name": "Deno",
      "language": "typescript",
      "name": "deno"
    },
    "language_info": {
      "codemirror_mode": "typescript",
      "file_extension": ".ts",
      "mimetype": "text/x.typescript",
      "name": "typescript",
      "nbconvert_exporter": "script",
      "pygments_lexer": "typescript",
      "version": "5.7.3"
    }
  },
  "nbformat": 4,
  "nbformat_minor": 2
}
