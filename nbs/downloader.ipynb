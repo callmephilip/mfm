{
 "cells": [
  {
   "cell_type": "code",
   "execution_count": 9,
   "metadata": {},
   "outputs": [
    {
     "name": "stdout",
     "output_type": "stream",
     "text": [
      "Collecting pytubefix\n",
      "  Downloading pytubefix-8.12.2-py3-none-any.whl (730 kB)\n",
      "\u001b[2K     \u001b[90m━━━━━━━━━━━━━━━━━━━━━━━━━━━━━━━━━━━━━━\u001b[0m \u001b[32m730.7/730.7 kB\u001b[0m \u001b[31m11.8 MB/s\u001b[0m eta \u001b[36m0:00:00\u001b[0ma \u001b[36m0:00:01\u001b[0m\n",
      "\u001b[?25hInstalling collected packages: pytubefix\n",
      "Successfully installed pytubefix-8.12.2\n"
     ]
    }
   ],
   "source": [
    "! pip install pytubefix"
   ]
  },
  {
   "cell_type": "code",
   "execution_count": 4,
   "metadata": {},
   "outputs": [
    {
     "ename": "ModuleNotFoundError",
     "evalue": "No module named 'moviepy.editor'",
     "output_type": "error",
     "traceback": [
      "\u001b[0;31m---------------------------------------------------------------------------\u001b[0m",
      "\u001b[0;31mModuleNotFoundError\u001b[0m                       Traceback (most recent call last)",
      "Cell \u001b[0;32mIn[4], line 3\u001b[0m\n\u001b[1;32m      1\u001b[0m \u001b[38;5;28;01mimport\u001b[39;00m \u001b[38;5;21;01mos\u001b[39;00m\n\u001b[1;32m      2\u001b[0m \u001b[38;5;28;01mfrom\u001b[39;00m \u001b[38;5;21;01mpytube\u001b[39;00m \u001b[38;5;28;01mimport\u001b[39;00m YouTube\n\u001b[0;32m----> 3\u001b[0m \u001b[38;5;28;01mfrom\u001b[39;00m \u001b[38;5;21;01mmoviepy\u001b[39;00m\u001b[38;5;21;01m.\u001b[39;00m\u001b[38;5;21;01meditor\u001b[39;00m \u001b[38;5;28;01mimport\u001b[39;00m AudioFileClip\n\u001b[1;32m      5\u001b[0m \u001b[38;5;28;01mdef\u001b[39;00m \u001b[38;5;21mdownload_youtube_as_mp3\u001b[39m(video_url, output_path\u001b[38;5;241m=\u001b[39m\u001b[38;5;124m'\u001b[39m\u001b[38;5;124m.\u001b[39m\u001b[38;5;124m'\u001b[39m):\n\u001b[1;32m      6\u001b[0m \u001b[38;5;250m    \u001b[39m\u001b[38;5;124;03m\"\"\"\u001b[39;00m\n\u001b[1;32m      7\u001b[0m \u001b[38;5;124;03m    Download a YouTube video and convert it to MP3 format.\u001b[39;00m\n\u001b[1;32m      8\u001b[0m \u001b[38;5;124;03m    \u001b[39;00m\n\u001b[0;32m   (...)\u001b[0m\n\u001b[1;32m     14\u001b[0m \u001b[38;5;124;03m        str: Path to the downloaded MP3 file\u001b[39;00m\n\u001b[1;32m     15\u001b[0m \u001b[38;5;124;03m    \"\"\"\u001b[39;00m\n",
      "\u001b[0;31mModuleNotFoundError\u001b[0m: No module named 'moviepy.editor'"
     ]
    }
   ],
   "source": [
    "import os\n",
    "from pytube import YouTube\n",
    "from moviepy.editor import AudioFileClip\n",
    "\n",
    "def download_youtube_as_mp3(video_url, output_path='.'):\n",
    "    \"\"\"\n",
    "    Download a YouTube video and convert it to MP3 format.\n",
    "    \n",
    "    Args:\n",
    "        video_url (str): URL of the YouTube video\n",
    "        output_path (str): Directory to save the output file (default: current directory)\n",
    "    \n",
    "    Returns:\n",
    "        str: Path to the downloaded MP3 file\n",
    "    \"\"\"\n",
    "    try:\n",
    "        # Create output directory if it doesn't exist\n",
    "        if not os.path.exists(output_path):\n",
    "            os.makedirs(output_path)\n",
    "        \n",
    "        # Initialize YouTube object\n",
    "        yt = YouTube(video_url)\n",
    "        \n",
    "        # Get video title (for filename)\n",
    "        video_title = yt.title\n",
    "        # Clean filename by removing invalid characters\n",
    "        clean_title = \"\".join(c for c in video_title if c.isalnum() or c in (' ', '-', '_')).strip()\n",
    "        \n",
    "        print(f\"Downloading: {video_title}\")\n",
    "        \n",
    "        # Get the highest quality audio stream\n",
    "        audio_stream = yt.streams.filter(only_audio=True).order_by('abr').desc().first()\n",
    "        \n",
    "        if not audio_stream:\n",
    "            # If no audio-only stream is available, get the lowest resolution video stream\n",
    "            audio_stream = yt.streams.filter(progressive=True).order_by('resolution').first()\n",
    "        \n",
    "        # Download the stream\n",
    "        temp_file = audio_stream.download(output_path=output_path, filename=f\"{clean_title}.tmp\")\n",
    "        \n",
    "        # Convert to MP3\n",
    "        print(\"Converting to MP3...\")\n",
    "        audio_clip = AudioFileClip(temp_file)\n",
    "        mp3_file = os.path.join(output_path, f\"{clean_title}.mp3\")\n",
    "        audio_clip.write_audiofile(mp3_file, bitrate=\"192k\")\n",
    "        \n",
    "        # Close the audio clip\n",
    "        audio_clip.close()\n",
    "        \n",
    "        # Remove the temporary file\n",
    "        os.remove(temp_file)\n",
    "        \n",
    "        print(f\"Download complete: {mp3_file}\")\n",
    "        return mp3_file\n",
    "    \n",
    "    except Exception as e:\n",
    "        print(f\"An error occurred: {str(e)}\")\n",
    "        return None"
   ]
  },
  {
   "cell_type": "code",
   "execution_count": 11,
   "metadata": {},
   "outputs": [
    {
     "name": "stdout",
     "output_type": "stream",
     "text": [
      "2 Trends Hidden in Plain Sight (+ $1M ideas)\n",
      " ↳ |████████████████████████████████████████████| 100.0%\r"
     ]
    },
    {
     "data": {
      "text/plain": [
       "'/Users/philip/projects/mfm/nbs/2 Trends Hidden in Plain Sight (+ $1M ideas).m4a'"
      ]
     },
     "execution_count": 11,
     "metadata": {},
     "output_type": "execute_result"
    }
   ],
   "source": [
    "from pytubefix import YouTube\n",
    "from pytubefix.cli import on_progress\n",
    "\n",
    "url = 'https://www.youtube.com/watch?v=rxMqbIm1PPo'\n",
    "\n",
    "yt = YouTube(url, on_progress_callback=on_progress)\n",
    "print(yt.title)\n",
    "\n",
    "ys = yt.streams.get_audio_only()\n",
    "ys.download()\n"
   ]
  }
 ],
 "metadata": {
  "kernelspec": {
   "display_name": "base",
   "language": "python",
   "name": "python3"
  },
  "language_info": {
   "codemirror_mode": {
    "name": "ipython",
    "version": 3
   },
   "file_extension": ".py",
   "mimetype": "text/x-python",
   "name": "python",
   "nbconvert_exporter": "python",
   "pygments_lexer": "ipython3",
   "version": "3.10.9"
  }
 },
 "nbformat": 4,
 "nbformat_minor": 2
}
